{
 "cells": [
  {
   "cell_type": "code",
   "execution_count": 3,
   "id": "efficient-might",
   "metadata": {},
   "outputs": [
    {
     "name": "stdout",
     "output_type": "stream",
     "text": [
      "using TS_COLAB_CONFIG_DIR=/home/codespace/workspace/testspace-colab/tests/.config/testspace\u001b[0m\n"
     ]
    }
   ],
   "source": [
    "import os\n",
    "import jsonpath_ng\n",
    "os.environ['TS_COLAB_CONFIG_DIR'] = '/home/codespace/workspace/testspace-colab/tests/.config/testspace'\n",
    "import testspace_colab.lib as lib\n",
    "\n",
    "client = lib.API()"
   ]
  },
  {
   "cell_type": "code",
   "execution_count": 2,
   "id": "virtual-horror",
   "metadata": {},
   "outputs": [
    {
     "data": {
      "application/vnd.jupyter.widget-view+json": {
       "model_id": "",
       "version_major": 2,
       "version_minor": 0
      },
      "text/plain": [
       "Output()"
      ]
     },
     "metadata": {},
     "output_type": "display_data"
    },
    {
     "data": {
      "text/html": [
       "<pre style=\"white-space:pre;overflow-x:auto;line-height:normal;font-family:Menlo,'DejaVu Sans Mono',consolas,'Courier New',monospace\"></pre>\n"
      ],
      "text/plain": [
       "<rich.jupyter.JupyterRenderable at 0x7f4174e56df0>"
      ]
     },
     "metadata": {},
     "output_type": "display_data"
    },
    {
     "data": {
      "text/plain": [
       "[{'duration': '0.000000',\n",
       "  'name': 'test_case_1',\n",
       "  'start_time': '2021-02-03T09:51:22.005395',\n",
       "  'status': 'passed',\n",
       "  'annotations': []},\n",
       " {'duration': '0.000000',\n",
       "  'name': 'test_case_2',\n",
       "  'start_time': '2021-02-03T09:51:22.005395',\n",
       "  'status': 'passed',\n",
       "  'annotations': []},\n",
       " {'duration': '0.000000',\n",
       "  'name': 'test_case_3',\n",
       "  'start_time': '2021-02-03T09:51:22.005395',\n",
       "  'status': 'passed',\n",
       "  'annotations': []},\n",
       " {'duration': '0.000000',\n",
       "  'name': 'test_case_4',\n",
       "  'start_time': '2021-02-03T09:51:22.005395',\n",
       "  'status': 'passed',\n",
       "  'annotations': []},\n",
       " {'duration': '0.000000',\n",
       "  'name': 'test_case_5',\n",
       "  'start_time': '2021-02-03T09:51:22.005395',\n",
       "  'status': 'passed',\n",
       "  'annotations': []},\n",
       " {'duration': '0.000000',\n",
       "  'name': 'test_case_6',\n",
       "  'start_time': '2021-02-03T09:51:22.005395',\n",
       "  'status': 'passed',\n",
       "  'annotations': []},\n",
       " {'duration': '0.000000',\n",
       "  'name': 'test_fail',\n",
       "  'start_time': '2021-02-03T09:51:22.005395',\n",
       "  'status': 'failed',\n",
       "  'annotations': [{'description': 'Assertion: AssertionError: Failure!\\nassert 0',\n",
       "    'level': 'error',\n",
       "    'mime_type': 'text/plain',\n",
       "    'name': '01. failure',\n",
       "    'children': []}]},\n",
       " {'description': 'xfailed: reason for xfailing',\n",
       "  'duration': '0.000000',\n",
       "  'name': 'test_xfail',\n",
       "  'start_time': '2021-02-03T09:51:22.005395',\n",
       "  'status': 'not_applicable',\n",
       "  'annotations': []},\n",
       " {'description': 'unconditional skip',\n",
       "  'duration': '0.000000',\n",
       "  'name': 'test_skip',\n",
       "  'start_time': '2021-02-03T09:51:22.005395',\n",
       "  'status': 'not_applicable',\n",
       "  'annotations': []},\n",
       " {'duration': '0.000000',\n",
       "  'name': 'test_case_7',\n",
       "  'start_time': '2021-02-03T09:51:22.005395',\n",
       "  'status': 'passed',\n",
       "  'annotations': []},\n",
       " {'duration': '0.000000',\n",
       "  'name': 'test_case_8',\n",
       "  'start_time': '2021-02-03T09:51:22.005395',\n",
       "  'status': 'passed',\n",
       "  'annotations': []},\n",
       " {'duration': '0.000000',\n",
       "  'name': 'test_case_9',\n",
       "  'start_time': '2021-02-03T09:51:22.005395',\n",
       "  'status': 'passed',\n",
       "  'annotations': []}]"
      ]
     },
     "execution_count": 2,
     "metadata": {},
     "output_type": "execute_result"
    }
   ],
   "source": [
    "[match.value for match in jsonpath_ng.parse('$..[cases][:]').find(client.get_result_details(result='test_data'))]"
   ]
  },
  {
   "cell_type": "code",
   "execution_count": null,
   "id": "enabling-teddy",
   "metadata": {},
   "outputs": [],
   "source": []
  }
 ],
 "metadata": {
  "kernelspec": {
   "display_name": "Python 3",
   "language": "python",
   "name": "python3"
  },
  "language_info": {
   "codemirror_mode": {
    "name": "ipython",
    "version": 3
   },
   "file_extension": ".py",
   "mimetype": "text/x-python",
   "name": "python",
   "nbconvert_exporter": "python",
   "pygments_lexer": "ipython3",
   "version": "3.8.5"
  }
 },
 "nbformat": 4,
 "nbformat_minor": 5
}
