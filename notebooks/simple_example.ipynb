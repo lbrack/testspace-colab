{
 "cells": [
  {
   "cell_type": "markdown",
   "id": "sensitive-intro",
   "metadata": {},
   "source": [
    "# Initialization\n",
    "\n",
    "This is a very simple example using the API. We load a default configuration pointing to \n",
    "https://lbrack.testspace.com/projects/samples/spaces/main\n",
    "And initialize the API"
   ]
  },
  {
   "cell_type": "code",
   "execution_count": 13,
   "id": "dependent-stack",
   "metadata": {},
   "outputs": [
    {
     "name": "stdout",
     "output_type": "stream",
     "text": [
      "using TS_COLAB_CONFIG_DIR=/home/laurent/github/laurent/testspace-colab/notebooks/../tests/.config/testspace\u001b[0m\n"
     ]
    }
   ],
   "source": [
    "import os\n",
    "import pathlib\n",
    "import jsonpath_ng\n",
    "import testspace_colab.lib as lib\n",
    "os.environ['TS_COLAB_CONFIG_DIR'] = str(pathlib.Path(os.path.abspath(os.curdir)) / '..' / 'tests'/ '.config' / 'testspace')\n",
    "client = lib.API()"
   ]
  },
  {
   "cell_type": "markdown",
   "id": "experimental-coordinator",
   "metadata": {},
   "source": [
    "# Some magic\n",
    "\n",
    "The following code snippet creates a list of test cases from the response but running a json-path query\n",
    "similar to xpath. "
   ]
  },
  {
   "cell_type": "code",
   "execution_count": 14,
   "id": "unlikely-hindu",
   "metadata": {},
   "outputs": [
    {
     "data": {
      "application/vnd.jupyter.widget-view+json": {
       "model_id": "",
       "version_major": 2,
       "version_minor": 0
      },
      "text/plain": [
       "Output()"
      ]
     },
     "metadata": {},
     "output_type": "display_data"
    },
    {
     "data": {
      "text/html": [
       "<pre style=\"white-space:pre;overflow-x:auto;line-height:normal;font-family:Menlo,'DejaVu Sans Mono',consolas,'Courier New',monospace\"></pre>\n"
      ],
      "text/plain": [
       "<rich.jupyter.JupyterRenderable at 0x7f102b9d9520>"
      ]
     },
     "metadata": {},
     "output_type": "display_data"
    },
    {
     "data": {
      "text/plain": [
       "[{'duration': '0.000000',\n",
       "  'name': 'test_case_1',\n",
       "  'start_time': '2021-02-03T09:51:22.005395',\n",
       "  'status': 'passed',\n",
       "  'annotations': []},\n",
       " {'duration': '0.000000',\n",
       "  'name': 'test_case_2',\n",
       "  'start_time': '2021-02-03T09:51:22.005395',\n",
       "  'status': 'passed',\n",
       "  'annotations': []},\n",
       " {'duration': '0.000000',\n",
       "  'name': 'test_case_3',\n",
       "  'start_time': '2021-02-03T09:51:22.005395',\n",
       "  'status': 'passed',\n",
       "  'annotations': []},\n",
       " {'duration': '0.000000',\n",
       "  'name': 'test_case_4',\n",
       "  'start_time': '2021-02-03T09:51:22.005395',\n",
       "  'status': 'passed',\n",
       "  'annotations': []},\n",
       " {'duration': '0.000000',\n",
       "  'name': 'test_case_5',\n",
       "  'start_time': '2021-02-03T09:51:22.005395',\n",
       "  'status': 'passed',\n",
       "  'annotations': []},\n",
       " {'duration': '0.000000',\n",
       "  'name': 'test_case_6',\n",
       "  'start_time': '2021-02-03T09:51:22.005395',\n",
       "  'status': 'passed',\n",
       "  'annotations': []},\n",
       " {'duration': '0.000000',\n",
       "  'name': 'test_fail',\n",
       "  'start_time': '2021-02-03T09:51:22.005395',\n",
       "  'status': 'failed',\n",
       "  'annotations': [{'description': 'Assertion: AssertionError: Failure!\\nassert 0',\n",
       "    'level': 'error',\n",
       "    'mime_type': 'text/plain',\n",
       "    'name': '01. failure',\n",
       "    'children': []}]},\n",
       " {'description': 'xfailed: reason for xfailing',\n",
       "  'duration': '0.000000',\n",
       "  'name': 'test_xfail',\n",
       "  'start_time': '2021-02-03T09:51:22.005395',\n",
       "  'status': 'not_applicable',\n",
       "  'annotations': []},\n",
       " {'description': 'unconditional skip',\n",
       "  'duration': '0.000000',\n",
       "  'name': 'test_skip',\n",
       "  'start_time': '2021-02-03T09:51:22.005395',\n",
       "  'status': 'not_applicable',\n",
       "  'annotations': []},\n",
       " {'duration': '0.000000',\n",
       "  'name': 'test_case_7',\n",
       "  'start_time': '2021-02-03T09:51:22.005395',\n",
       "  'status': 'passed',\n",
       "  'annotations': []},\n",
       " {'duration': '0.000000',\n",
       "  'name': 'test_case_8',\n",
       "  'start_time': '2021-02-03T09:51:22.005395',\n",
       "  'status': 'passed',\n",
       "  'annotations': []},\n",
       " {'duration': '0.000000',\n",
       "  'name': 'test_case_9',\n",
       "  'start_time': '2021-02-03T09:51:22.005395',\n",
       "  'status': 'passed',\n",
       "  'annotations': []}]"
      ]
     },
     "execution_count": 14,
     "metadata": {},
     "output_type": "execute_result"
    }
   ],
   "source": [
    "[match.value for match in jsonpath_ng.parse('$..[cases][:]').find(client.get_result_details(result='test_data'))]"
   ]
  },
  {
   "cell_type": "code",
   "execution_count": null,
   "id": "israeli-tanzania",
   "metadata": {},
   "outputs": [],
   "source": []
  }
 ],
 "metadata": {
  "kernelspec": {
   "display_name": "Python 3",
   "language": "python",
   "name": "python3"
  },
  "language_info": {
   "codemirror_mode": {
    "name": "ipython",
    "version": 3
   },
   "file_extension": ".py",
   "mimetype": "text/x-python",
   "name": "python",
   "nbconvert_exporter": "python",
   "pygments_lexer": "ipython3",
   "version": "3.8.6"
  }
 },
 "nbformat": 4,
 "nbformat_minor": 5
}
