{
 "cells": [
  {
   "cell_type": "markdown",
   "id": "prerequisite-lying",
   "metadata": {},
   "source": [
    "# Initialization\n",
    "\n",
    "This is a very simple example using the API. We load a default configuration pointing to \n",
    "https://lbrack.testspace.com/projects/samples/spaces/main using ``testspace_colab.use_test_config()`` and initialize the API"
   ]
  },
  {
   "cell_type": "code",
   "execution_count": null,
   "id": "crucial-rings",
   "metadata": {},
   "outputs": [],
   "source": [
    "import testspace_colab\n",
    "testspace_colab.use_test_config()\n",
    "client = testspace_colab.API()"
   ]
  },
  {
   "cell_type": "markdown",
   "id": "professional-arrow",
   "metadata": {},
   "source": [
    "# Some magic\n",
    "\n",
    "The following code snippet creates a list of test cases from the response but running a json-path query\n",
    "similar to xpath. "
   ]
  },
  {
   "cell_type": "code",
   "execution_count": null,
   "id": "further-layer",
   "metadata": {},
   "outputs": [],
   "source": [
    "import jsonpath_ng\n",
    "[match.value for match in jsonpath_ng.parse('$..[cases][:]').find(client.get_result_details(result='test_data'))]"
   ]
  },
  {
   "cell_type": "code",
   "execution_count": null,
   "id": "comic-phenomenon",
   "metadata": {},
   "outputs": [],
   "source": []
  }
 ],
 "metadata": {
  "kernelspec": {
   "display_name": "Python 3",
   "language": "python",
   "name": "python3"
  },
  "language_info": {
   "codemirror_mode": {
    "name": "ipython",
    "version": 3
   },
   "file_extension": ".py",
   "mimetype": "text/x-python",
   "name": "python",
   "nbconvert_exporter": "python",
   "pygments_lexer": "ipython3",
   "version": "3.8.6"
  }
 },
 "nbformat": 4,
 "nbformat_minor": 5
}
