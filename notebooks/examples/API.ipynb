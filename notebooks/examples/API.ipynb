{
 "cells": [
  {
   "cell_type": "markdown",
   "id": "raised-string",
   "metadata": {},
   "source": [
    "# API Usage\n",
    "\n",
    "The purpose of this example is to illustrate how to use the API. For practically, we are using \n",
    "the [https://lbrack.testspace.com/](https://lbrack.testspace.com/) organization which doesn't have \n",
    "any read restrictions."
   ]
  },
  {
   "cell_type": "code",
   "execution_count": 23,
   "id": "applied-nashville",
   "metadata": {},
   "outputs": [
    {
     "name": "stdout",
     "output_type": "stream",
     "text": [
      "using TS_COLAB_CONFIG_DIR=/home/laurent/github/laurent/testspace-colab/tests/.config/test\u001b[0m\n"
     ]
    }
   ],
   "source": [
    "from IPython.display import display # Pretty display in Python\n",
    "import testspace_colab\n",
    "testspace_colab.use_test_config()      # Comment this line if you want to use you own config.\n",
    "# testspace_colab.use_samples_config() # uncomment this line to use the testspace samples\n",
    "api = testspace_colab.API()"
   ]
  },
  {
   "cell_type": "markdown",
   "id": "finished-prophet",
   "metadata": {},
   "source": [
    "You can call any API provided by the [testspace-python](https://github.com/s2technologies/testspace-python) as illustrated below"
   ]
  },
  {
   "cell_type": "code",
   "execution_count": 24,
   "id": "rental-poverty",
   "metadata": {},
   "outputs": [
    {
     "data": {
      "text/plain": [
       "{'id': 123753,\n",
       " 'name': 'test_data',\n",
       " 'sequence_number': 1,\n",
       " 'description': 'This is the test data for the testspace-colab project',\n",
       " 'complete': True,\n",
       " 'pinned': True,\n",
       " 'user_id': 44,\n",
       " 'created_at': '2021-02-03T19:04:45.000+01:00',\n",
       " 'updated_at': '2021-02-04T01:22:36.000+01:00',\n",
       " 'space_id': 133471,\n",
       " 'commit_id': None,\n",
       " 'build_url': None,\n",
       " 'build_status': None,\n",
       " 'suite_counts': [6, 1, 0],\n",
       " 'session_suite_counts': [6, 1, 0],\n",
       " 'case_counts': [9, 1, 2, 0],\n",
       " 'session_case_counts': [9, 1, 2, 0],\n",
       " 'annotation_counts': [1, 0, 1],\n",
       " 'failure_counts': [1, 0, 0, 0, 0, 1],\n",
       " 'session_failure_counts': [1, 0, 0, 0, 0, 1],\n",
       " 'duration': 0.0,\n",
       " 'session_duration': 0.0,\n",
       " 'health': {'state': 'failure',\n",
       "  'description': 'Unhealthy. One or more Testspace metrics were out of range.\\n* Test Cases: 1 unexpected failure! 90.0% passed (100% threshold and 1 exempt case)',\n",
       "  'badges': [{'metric_id': 105335,\n",
       "    'name': 'test',\n",
       "    'value': 90,\n",
       "    'status': 'failing'}]}}"
      ]
     },
     "metadata": {},
     "output_type": "display_data"
    }
   ],
   "source": [
    "PROJECT='samples'\n",
    "SPACE='main'\n",
    "last_result = api.get_results(project=PROJECT, space=SPACE)[-1]\n",
    "display(last_result)"
   ]
  },
  {
   "cell_type": "markdown",
   "id": "overall-spotlight",
   "metadata": {},
   "source": [
    "The following example shows how to use the API in a project. If you know the json structure,\n",
    "you can use the [jsonpath-ng](https://pypi.org/project/jsonpath-ng/) module to extract\n",
    "any information you are interested in usig the jsonpath notation. For those of us familiar\n",
    "with XPATH, check the [JSONPath - XPath for JSON](https://goessner.net/articles/JsonPath/)\n",
    "\n",
    "In the example below, we extract the list of test cases associated to that result"
   ]
  },
  {
   "cell_type": "code",
   "execution_count": 25,
   "id": "detailed-tribe",
   "metadata": {},
   "outputs": [
    {
     "data": {
      "application/vnd.jupyter.widget-view+json": {
       "model_id": "",
       "version_major": 2,
       "version_minor": 0
      },
      "text/plain": [
       "Output()"
      ]
     },
     "metadata": {},
     "output_type": "display_data"
    },
    {
     "data": {
      "text/html": [
       "<pre style=\"white-space:pre;overflow-x:auto;line-height:normal;font-family:Menlo,'DejaVu Sans Mono',consolas,'Courier New',monospace\"></pre>\n"
      ],
      "text/plain": [
       "<rich.jupyter.JupyterRenderable at 0x7f856eb6cb50>"
      ]
     },
     "metadata": {},
     "output_type": "display_data"
    },
    {
     "data": {
      "text/plain": [
       "[{'duration': '0.000000',\n",
       "  'name': 'test_case_1',\n",
       "  'start_time': '2021-02-03T09:51:22.005395',\n",
       "  'status': 'passed',\n",
       "  'annotations': []},\n",
       " {'duration': '0.000000',\n",
       "  'name': 'test_case_2',\n",
       "  'start_time': '2021-02-03T09:51:22.005395',\n",
       "  'status': 'passed',\n",
       "  'annotations': []},\n",
       " {'duration': '0.000000',\n",
       "  'name': 'test_case_3',\n",
       "  'start_time': '2021-02-03T09:51:22.005395',\n",
       "  'status': 'passed',\n",
       "  'annotations': []},\n",
       " {'duration': '0.000000',\n",
       "  'name': 'test_case_4',\n",
       "  'start_time': '2021-02-03T09:51:22.005395',\n",
       "  'status': 'passed',\n",
       "  'annotations': []},\n",
       " {'duration': '0.000000',\n",
       "  'name': 'test_case_5',\n",
       "  'start_time': '2021-02-03T09:51:22.005395',\n",
       "  'status': 'passed',\n",
       "  'annotations': []},\n",
       " {'duration': '0.000000',\n",
       "  'name': 'test_case_6',\n",
       "  'start_time': '2021-02-03T09:51:22.005395',\n",
       "  'status': 'passed',\n",
       "  'annotations': []},\n",
       " {'duration': '0.000000',\n",
       "  'name': 'test_fail',\n",
       "  'start_time': '2021-02-03T09:51:22.005395',\n",
       "  'status': 'failed',\n",
       "  'annotations': [{'description': 'Assertion: AssertionError: Failure!\\nassert 0',\n",
       "    'level': 'error',\n",
       "    'mime_type': 'text/plain',\n",
       "    'name': '01. failure',\n",
       "    'children': []}]},\n",
       " {'description': 'xfailed: reason for xfailing',\n",
       "  'duration': '0.000000',\n",
       "  'name': 'test_xfail',\n",
       "  'start_time': '2021-02-03T09:51:22.005395',\n",
       "  'status': 'not_applicable',\n",
       "  'annotations': []},\n",
       " {'description': 'unconditional skip',\n",
       "  'duration': '0.000000',\n",
       "  'name': 'test_skip',\n",
       "  'start_time': '2021-02-03T09:51:22.005395',\n",
       "  'status': 'not_applicable',\n",
       "  'annotations': []},\n",
       " {'duration': '0.000000',\n",
       "  'name': 'test_case_7',\n",
       "  'start_time': '2021-02-03T09:51:22.005395',\n",
       "  'status': 'passed',\n",
       "  'annotations': []},\n",
       " {'duration': '0.000000',\n",
       "  'name': 'test_case_8',\n",
       "  'start_time': '2021-02-03T09:51:22.005395',\n",
       "  'status': 'passed',\n",
       "  'annotations': []},\n",
       " {'duration': '0.000000',\n",
       "  'name': 'test_case_9',\n",
       "  'start_time': '2021-02-03T09:51:22.005395',\n",
       "  'status': 'passed',\n",
       "  'annotations': []}]"
      ]
     },
     "execution_count": 25,
     "metadata": {},
     "output_type": "execute_result"
    }
   ],
   "source": [
    "import jsonpath_ng\n",
    "details = api.get_result_details(result=last_result['id'], project=PROJECT, space=SPACE)\n",
    "[match.value for match in jsonpath_ng.parse('$..cases[:]').find(details)]\n"
   ]
  },
  {
   "cell_type": "code",
   "execution_count": null,
   "id": "exterior-hypothesis",
   "metadata": {},
   "outputs": [],
   "source": []
  }
 ],
 "metadata": {
  "kernelspec": {
   "display_name": "Python 3.8.6 64-bit ('testspace': venv)",
   "language": "python",
   "name": "python38664bittestspacevenv318f17c60225496fa463757e9cd297b4"
  },
  "language_info": {
   "codemirror_mode": {
    "name": "ipython",
    "version": 3
   },
   "file_extension": ".py",
   "mimetype": "text/x-python",
   "name": "python",
   "nbconvert_exporter": "python",
   "pygments_lexer": "ipython3",
   "version": "3.8.6"
  }
 },
 "nbformat": 4,
 "nbformat_minor": 5
}
