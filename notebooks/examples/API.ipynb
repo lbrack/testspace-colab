{
 "cells": [
  {
   "cell_type": "markdown",
   "id": "protected-kennedy",
   "metadata": {},
   "source": [
    "# API Usage\n",
    "\n",
    "The purpose of this example is to illustrate how to use the API. For practically, we are using \n",
    "the [https://lbrack.testspace.com/](https://lbrack.testspace.com/) organization which doesn't have \n",
    "any read restrictions."
   ]
  },
  {
   "cell_type": "code",
   "execution_count": 1,
   "id": "removable-forward",
   "metadata": {},
   "outputs": [
    {
     "name": "stdout",
     "output_type": "stream",
     "text": [
      "using TS_COLAB_CONFIG_DIR=/home/laurent/github/laurent/testspace-colab/tests/.config/test\u001b[0m\n"
     ]
    }
   ],
   "source": [
    "from IPython.display import display # Pretty display in Python\n",
    "import testspace_colab\n",
    "testspace_colab.use_test_config()      # Comment this line if you want to use you own config.\n",
    "# testspace_colab.use_samples_config() # uncomment this line to use the testspace samples\n",
    "api = testspace_colab.API()"
   ]
  },
  {
   "cell_type": "markdown",
   "id": "respiratory-connecticut",
   "metadata": {},
   "source": [
    "You can call any API provided by the [testspace-python](https://github.com/s2technologies/testspace-python) as illustrated below"
   ]
  },
  {
   "cell_type": "code",
   "execution_count": 2,
   "id": "banned-generator",
   "metadata": {},
   "outputs": [
    {
     "data": {
      "text/plain": [
       "{'id': 123753,\n",
       " 'name': 'test_data',\n",
       " 'sequence_number': 1,\n",
       " 'description': 'This is the test data for the testspace-colab project',\n",
       " 'complete': True,\n",
       " 'pinned': True,\n",
       " 'user_id': 44,\n",
       " 'created_at': '2021-02-03T18:04:45.000Z',\n",
       " 'updated_at': '2021-02-04T00:22:36.000Z',\n",
       " 'space_id': 133471,\n",
       " 'commit_id': None,\n",
       " 'build_url': None,\n",
       " 'build_status': None,\n",
       " 'suite_counts': [6, 1, 0],\n",
       " 'session_suite_counts': [6, 1, 0],\n",
       " 'case_counts': [9, 1, 2, 0],\n",
       " 'session_case_counts': [9, 1, 2, 0],\n",
       " 'annotation_counts': [1, 0, 1],\n",
       " 'failure_counts': [1, 0, 0, 0, 0, 1],\n",
       " 'session_failure_counts': [1, 0, 0, 0, 0, 1],\n",
       " 'duration': 0.0,\n",
       " 'session_duration': 0.0,\n",
       " 'health': {'state': 'failure',\n",
       "  'description': 'Unhealthy. One or more Testspace metrics were out of range.\\n* Test Cases: 1 unexpected failure! 90.0% passed (100% threshold and 1 exempt case)',\n",
       "  'badges': [{'metric_id': 105335,\n",
       "    'name': 'test',\n",
       "    'value': 90,\n",
       "    'status': 'failing'}]}}"
      ]
     },
     "metadata": {},
     "output_type": "display_data"
    }
   ],
   "source": [
    "PROJECT='samples'\n",
    "SPACE='main'\n",
    "last_result = api.get_results(project=PROJECT, space=SPACE)[-1]\n",
    "display(last_result)"
   ]
  },
  {
   "cell_type": "markdown",
   "id": "suspected-incidence",
   "metadata": {},
   "source": [
    "The following example shows how to use the API in a project. If you know the json structure,\n",
    "you can use the [jsonpath-ng](https://pypi.org/project/jsonpath-ng/) module to extract\n",
    "any information you are interested in usig the jsonpath notation. For those of us familiar\n",
    "with XPATH, check the [JSONPath - XPath for JSON](https://goessner.net/articles/JsonPath/)\n",
    "\n",
    "In the example below, we extract the list of test cases associated to that result"
   ]
  },
  {
   "cell_type": "code",
   "execution_count": 3,
   "id": "processed-commission",
   "metadata": {},
   "outputs": [
    {
     "data": {
      "text/html": [
       "<pre style=\"white-space:pre;overflow-x:auto;line-height:normal;font-family:Menlo,'DejaVu Sans Mono',consolas,'Courier New',monospace\"><span style=\"color: #800000\"> Suites</span>      <span style=\"color: #d12a66\">━</span><span style=\"color: #e6276c\">━</span><span style=\"color: #f42670\">━</span><span style=\"color: #f92672\">━</span><span style=\"color: #f42670\">━</span><span style=\"color: #e6276c\">━</span><span style=\"color: #d12a66\">━</span><span style=\"color: #b72c5e\">━</span><span style=\"color: #993056\">━</span><span style=\"color: #7b334d\">━</span><span style=\"color: #613545\">━</span><span style=\"color: #4c383f\">━</span><span style=\"color: #3e393b\">━</span><span style=\"color: #3a3a3a\">━</span><span style=\"color: #3e393b\">━</span><span style=\"color: #4c383f\">━</span><span style=\"color: #613545\">━</span><span style=\"color: #7b334d\">━</span><span style=\"color: #993056\">━</span><span style=\"color: #b72c5e\">━</span><span style=\"color: #d12a66\">━</span><span style=\"color: #e6276c\">━</span><span style=\"color: #f42670\">━</span><span style=\"color: #f92672\">━</span><span style=\"color: #f42670\">━</span><span style=\"color: #e6276c\">━</span><span style=\"color: #d12a66\">━</span><span style=\"color: #b72c5e\">━</span><span style=\"color: #993056\">━</span><span style=\"color: #7b334d\">━</span><span style=\"color: #613545\">━</span><span style=\"color: #4c383f\">━</span><span style=\"color: #3e393b\">━</span><span style=\"color: #3a3a3a\">━</span><span style=\"color: #3e393b\">━</span><span style=\"color: #4c383f\">━</span><span style=\"color: #613545\">━</span><span style=\"color: #7b334d\">━</span><span style=\"color: #993056\">━</span><span style=\"color: #b72c5e\">━</span> <span style=\"color: #800080\"> 86%</span> <span style=\"color: #008080\">-:--:--</span>\n",
       "<span style=\"color: #008000\"> Cases</span>       <span style=\"color: #d12a66\">━</span><span style=\"color: #e6276c\">━</span><span style=\"color: #f42670\">━</span><span style=\"color: #f92672\">━</span><span style=\"color: #f42670\">━</span><span style=\"color: #e6276c\">━</span><span style=\"color: #d12a66\">━</span><span style=\"color: #b72c5e\">━</span><span style=\"color: #993056\">━</span><span style=\"color: #7b334d\">━</span><span style=\"color: #613545\">━</span><span style=\"color: #4c383f\">━</span><span style=\"color: #3e393b\">━</span><span style=\"color: #3a3a3a\">━</span><span style=\"color: #3e393b\">━</span><span style=\"color: #4c383f\">━</span><span style=\"color: #613545\">━</span><span style=\"color: #7b334d\">━</span><span style=\"color: #993056\">━</span><span style=\"color: #b72c5e\">━</span><span style=\"color: #d12a66\">━</span><span style=\"color: #e6276c\">━</span><span style=\"color: #f42670\">━</span><span style=\"color: #f92672\">━</span><span style=\"color: #f42670\">━</span><span style=\"color: #e6276c\">━</span><span style=\"color: #d12a66\">━</span><span style=\"color: #b72c5e\">━</span><span style=\"color: #993056\">━</span><span style=\"color: #7b334d\">━</span><span style=\"color: #613545\">━</span><span style=\"color: #4c383f\">━</span><span style=\"color: #3e393b\">━</span><span style=\"color: #3a3a3a\">━</span><span style=\"color: #3e393b\">━</span><span style=\"color: #4c383f\">━</span><span style=\"color: #613545\">━</span><span style=\"color: #7b334d\">━</span><span style=\"color: #993056\">━</span><span style=\"color: #b72c5e\">━</span> <span style=\"color: #800080\"> 83%</span> <span style=\"color: #008080\">-:--:--</span>\n",
       "<span style=\"color: #000080\"> Annotations</span> <span style=\"color: #d12a66\">━</span><span style=\"color: #e6276c\">━</span><span style=\"color: #f42670\">━</span><span style=\"color: #f92672\">━</span><span style=\"color: #f42670\">━</span><span style=\"color: #e6276c\">━</span><span style=\"color: #d12a66\">━</span><span style=\"color: #b72c5e\">━</span><span style=\"color: #993056\">━</span><span style=\"color: #7b334d\">━</span><span style=\"color: #613545\">━</span><span style=\"color: #4c383f\">━</span><span style=\"color: #3e393b\">━</span><span style=\"color: #3a3a3a\">━</span><span style=\"color: #3e393b\">━</span><span style=\"color: #4c383f\">━</span><span style=\"color: #613545\">━</span><span style=\"color: #7b334d\">━</span><span style=\"color: #993056\">━</span><span style=\"color: #b72c5e\">━</span><span style=\"color: #d12a66\">━</span><span style=\"color: #e6276c\">━</span><span style=\"color: #f42670\">━</span><span style=\"color: #f92672\">━</span><span style=\"color: #f42670\">━</span><span style=\"color: #e6276c\">━</span><span style=\"color: #d12a66\">━</span><span style=\"color: #b72c5e\">━</span><span style=\"color: #993056\">━</span><span style=\"color: #7b334d\">━</span><span style=\"color: #613545\">━</span><span style=\"color: #4c383f\">━</span><span style=\"color: #3e393b\">━</span><span style=\"color: #3a3a3a\">━</span><span style=\"color: #3e393b\">━</span><span style=\"color: #4c383f\">━</span><span style=\"color: #613545\">━</span><span style=\"color: #7b334d\">━</span><span style=\"color: #993056\">━</span><span style=\"color: #b72c5e\">━</span> <span style=\"color: #800080\"> 50%</span> <span style=\"color: #008080\">-:--:--</span>\n",
       "</pre>\n"
      ],
      "text/plain": [
       "<rich.jupyter.JupyterRenderable at 0x7fd1a4944850>"
      ]
     },
     "metadata": {},
     "output_type": "display_data"
    },
    {
     "data": {
      "text/html": [
       "<pre style=\"white-space:pre;overflow-x:auto;line-height:normal;font-family:Menlo,'DejaVu Sans Mono',consolas,'Courier New',monospace\"></pre>\n"
      ],
      "text/plain": [
       "<rich.jupyter.JupyterRenderable at 0x7fd1a498e1f0>"
      ]
     },
     "metadata": {},
     "output_type": "display_data"
    },
    {
     "data": {
      "text/plain": [
       "[{'duration': '0.000000',\n",
       "  'name': 'test_case_1',\n",
       "  'start_time': '2021-02-03T09:51:22.005395',\n",
       "  'status': 'passed',\n",
       "  'annotations': []},\n",
       " {'duration': '0.000000',\n",
       "  'name': 'test_case_2',\n",
       "  'start_time': '2021-02-03T09:51:22.005395',\n",
       "  'status': 'passed',\n",
       "  'annotations': []},\n",
       " {'duration': '0.000000',\n",
       "  'name': 'test_case_3',\n",
       "  'start_time': '2021-02-03T09:51:22.005395',\n",
       "  'status': 'passed',\n",
       "  'annotations': []},\n",
       " {'duration': '0.000000',\n",
       "  'name': 'test_case_4',\n",
       "  'start_time': '2021-02-03T09:51:22.005395',\n",
       "  'status': 'passed',\n",
       "  'annotations': []},\n",
       " {'duration': '0.000000',\n",
       "  'name': 'test_case_5',\n",
       "  'start_time': '2021-02-03T09:51:22.005395',\n",
       "  'status': 'passed',\n",
       "  'annotations': []},\n",
       " {'duration': '0.000000',\n",
       "  'name': 'test_case_6',\n",
       "  'start_time': '2021-02-03T09:51:22.005395',\n",
       "  'status': 'passed',\n",
       "  'annotations': []},\n",
       " {'duration': '0.000000',\n",
       "  'name': 'test_fail',\n",
       "  'start_time': '2021-02-03T09:51:22.005395',\n",
       "  'status': 'failed',\n",
       "  'annotations': [{'description': 'Assertion: AssertionError: Failure!\\nassert 0',\n",
       "    'level': 'error',\n",
       "    'mime_type': 'text/plain',\n",
       "    'name': '01. failure',\n",
       "    'children': []}]},\n",
       " {'description': 'xfailed: reason for xfailing',\n",
       "  'duration': '0.000000',\n",
       "  'name': 'test_xfail',\n",
       "  'start_time': '2021-02-03T09:51:22.005395',\n",
       "  'status': 'not_applicable',\n",
       "  'annotations': []},\n",
       " {'description': 'unconditional skip',\n",
       "  'duration': '0.000000',\n",
       "  'name': 'test_skip',\n",
       "  'start_time': '2021-02-03T09:51:22.005395',\n",
       "  'status': 'not_applicable',\n",
       "  'annotations': []},\n",
       " {'duration': '0.000000',\n",
       "  'name': 'test_case_7',\n",
       "  'start_time': '2021-02-03T09:51:22.005395',\n",
       "  'status': 'passed',\n",
       "  'annotations': []},\n",
       " {'duration': '0.000000',\n",
       "  'name': 'test_case_8',\n",
       "  'start_time': '2021-02-03T09:51:22.005395',\n",
       "  'status': 'passed',\n",
       "  'annotations': []},\n",
       " {'duration': '0.000000',\n",
       "  'name': 'test_case_9',\n",
       "  'start_time': '2021-02-03T09:51:22.005395',\n",
       "  'status': 'passed',\n",
       "  'annotations': []}]"
      ]
     },
     "execution_count": 3,
     "metadata": {},
     "output_type": "execute_result"
    }
   ],
   "source": [
    "import jsonpath_ng\n",
    "details = api.get_result_details(result=last_result['id'], project=PROJECT, space=SPACE)\n",
    "[match.value for match in jsonpath_ng.parse('$..cases[:]').find(details)]\n"
   ]
  },
  {
   "cell_type": "code",
   "execution_count": null,
   "id": "hollow-retreat",
   "metadata": {},
   "outputs": [],
   "source": []
  }
 ],
 "metadata": {
  "kernelspec": {
   "display_name": "testspace-colab",
   "language": "python",
   "name": "testspace-colab"
  },
  "language_info": {
   "codemirror_mode": {
    "name": "ipython",
    "version": 3
   },
   "file_extension": ".py",
   "mimetype": "text/x-python",
   "name": "python",
   "nbconvert_exporter": "python",
   "pygments_lexer": "ipython3",
   "version": "3.8.6"
  },
  "widgets": {
   "application/vnd.jupyter.widget-state+json": {
    "state": {
     "7b9c46e307e943c7ae97a99a507910b1": {
      "model_module": "@jupyter-widgets/output",
      "model_module_version": "1.0.0",
      "model_name": "OutputModel",
      "state": {
       "_dom_classes": [],
       "_model_module": "@jupyter-widgets/output",
       "_model_module_version": "1.0.0",
       "_model_name": "OutputModel",
       "_view_count": null,
       "_view_module": "@jupyter-widgets/output",
       "_view_module_version": "1.0.0",
       "_view_name": "OutputView",
       "layout": "IPY_MODEL_bb42bceae2af41028853d7f695274887",
       "msg_id": "",
       "outputs": []
      }
     },
     "bb42bceae2af41028853d7f695274887": {
      "model_module": "@jupyter-widgets/base",
      "model_module_version": "1.2.0",
      "model_name": "LayoutModel",
      "state": {
       "_model_module": "@jupyter-widgets/base",
       "_model_module_version": "1.2.0",
       "_model_name": "LayoutModel",
       "_view_count": null,
       "_view_module": "@jupyter-widgets/base",
       "_view_module_version": "1.2.0",
       "_view_name": "LayoutView",
       "align_content": null,
       "align_items": null,
       "align_self": null,
       "border": null,
       "bottom": null,
       "display": null,
       "flex": null,
       "flex_flow": null,
       "grid_area": null,
       "grid_auto_columns": null,
       "grid_auto_flow": null,
       "grid_auto_rows": null,
       "grid_column": null,
       "grid_gap": null,
       "grid_row": null,
       "grid_template_areas": null,
       "grid_template_columns": null,
       "grid_template_rows": null,
       "height": null,
       "justify_content": null,
       "justify_items": null,
       "left": null,
       "margin": null,
       "max_height": null,
       "max_width": null,
       "min_height": null,
       "min_width": null,
       "object_fit": null,
       "object_position": null,
       "order": null,
       "overflow": null,
       "overflow_x": null,
       "overflow_y": null,
       "padding": null,
       "right": null,
       "top": null,
       "visibility": null,
       "width": null
      }
     }
    },
    "version_major": 2,
    "version_minor": 0
   }
  }
 },
 "nbformat": 4,
 "nbformat_minor": 5
}
