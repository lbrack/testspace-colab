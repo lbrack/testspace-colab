{
 "metadata": {
  "language_info": {
   "codemirror_mode": {
    "name": "ipython",
    "version": 3
   },
   "file_extension": ".py",
   "mimetype": "text/x-python",
   "name": "python",
   "nbconvert_exporter": "python",
   "pygments_lexer": "ipython3",
   "version": "3.7.3"
  },
  "orig_nbformat": 2,
  "kernelspec": {
   "name": "python373jvsc74a57bd03c089f59c0e900ecee785402da8d418d110da630ce45d29715c6accda0c73b78",
   "display_name": "Python 3.7.3 64-bit"
  }
 },
 "nbformat": 4,
 "nbformat_minor": 2,
 "cells": [
  {
   "cell_type": "code",
   "execution_count": 1,
   "metadata": {},
   "outputs": [],
   "source": [
    "import os\n",
    "import testspace_colab\n",
    "import jsonpath_ng\n",
    "import sys\n",
    "TS_TOKEN = os.environ.get('TESTSPACE_TOKEN')"
   ]
  },
  {
   "cell_type": "code",
   "execution_count": 2,
   "metadata": {},
   "outputs": [],
   "source": [
    "PROJECT=\"trytestspace:prettier\"\n",
    "SPACE=\"add-test-reporting-failures\"\n",
    "URL=\"s2.testspace.com\""
   ]
  },
  {
   "cell_type": "code",
   "execution_count": 3,
   "metadata": {},
   "outputs": [],
   "source": [
    "api = testspace_colab.API(token=TS_TOKEN, url=URL, project=PROJECT, space=SPACE)\n",
    "results = api.get_results(project=PROJECT, space=SPACE)\n",
    "id = results[0]['id']"
   ]
  },
  {
   "cell_type": "code",
   "execution_count": 7,
   "metadata": {},
   "outputs": [
    {
     "output_type": "stream",
     "name": "stdout",
     "text": [
      "Total cases: 13637\n"
     ]
    }
   ],
   "source": [
    "total_cases = results[0][\"case_counts\"][0] + results[0][\"case_counts\"][1] + results[0][\"case_counts\"][3]\n",
    "print(\"Total cases:\", total_cases)"
   ]
  },
  {
   "cell_type": "code",
   "execution_count": 8,
   "metadata": {},
   "outputs": [
    {
     "output_type": "display_data",
     "data": {
      "text/plain": "Output()",
      "application/vnd.jupyter.widget-view+json": {
       "version_major": 2,
       "version_minor": 0,
       "model_id": "3d29ba7367bd4ae2b98662408aa2faee"
      }
     },
     "metadata": {}
    },
    {
     "output_type": "display_data",
     "data": {
      "text/plain": "",
      "text/html": "<pre style=\"white-space:pre;overflow-x:auto;line-height:normal;font-family:Menlo,'DejaVu Sans Mono',consolas,'Courier New',monospace\"></pre>\n"
     },
     "metadata": {}
    }
   ],
   "source": [
    "details = api.get_result_details(id, project=PROJECT, space=SPACE)\n",
    "flat_details = [match.value for match in jsonpath_ng.parse('$..cases[:]').find(details)]"
   ]
  },
  {
   "cell_type": "code",
   "execution_count": 11,
   "metadata": {},
   "outputs": [
    {
     "output_type": "stream",
     "name": "stdout",
     "text": [
      "Flat total cases: 1054\n"
     ]
    }
   ],
   "source": [
    "print(\"Flat total cases:\", len(flat_details))"
   ]
  }
 ]
}