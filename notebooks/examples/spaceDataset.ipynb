{
 "metadata": {
  "language_info": {
   "codemirror_mode": {
    "name": "ipython",
    "version": 3
   },
   "file_extension": ".py",
   "mimetype": "text/x-python",
   "name": "python",
   "nbconvert_exporter": "python",
   "pygments_lexer": "ipython3",
   "version": "3.7.3-final"
  },
  "orig_nbformat": 2,
  "kernelspec": {
   "name": "python3",
   "display_name": "Python 3.7.3 64-bit",
   "metadata": {
    "interpreter": {
     "hash": "3c089f59c0e900ecee785402da8d418d110da630ce45d29715c6accda0c73b78"
    }
   }
  }
 },
 "nbformat": 4,
 "nbformat_minor": 2,
 "cells": [
  {
   "source": [
    "Reference issue: https://github.com/testspace-com/testspace-colab/issues/22"
   ],
   "cell_type": "markdown",
   "metadata": {}
  },
  {
   "cell_type": "code",
   "execution_count": 1,
   "metadata": {},
   "outputs": [],
   "source": [
    "import pandas as pd\n",
    "import util as ut"
   ]
  },
  {
   "cell_type": "code",
   "execution_count": 2,
   "metadata": {},
   "outputs": [],
   "source": [
    "projectResultsFile=\"test.projectResults.json\""
   ]
  },
  {
   "cell_type": "code",
   "execution_count": 3,
   "metadata": {},
   "outputs": [],
   "source": [
    "projectResults = ut.rd_details_cases(projectResultsFile)\n",
    "spaceResults   = projectResults[0]['results']"
   ]
  },
  {
   "cell_type": "code",
   "execution_count": 4,
   "metadata": {},
   "outputs": [],
   "source": [
    "spaceResultsDict          = {}\n",
    "prev_spaceResultsDictItem = {}\n",
    "for result in spaceResults:\n",
    "    spaceResultsDict[result['name']] = ut.convert_to_tuples_dict(result['cases'], prev_spaceResultsDictItem)\n",
    "    prev_spaceResultsDictItem        = spaceResultsDict[result['name']]"
   ]
  },
  {
   "cell_type": "code",
   "execution_count": 5,
   "metadata": {},
   "outputs": [],
   "source": [
    "spaceDataset = pd.DataFrame(spaceResultsDict)\n",
    "spaceDataset.sort_index(inplace=True)\n",
    "spaceDataset.index.names = ['case', 'result']"
   ]
  },
  {
   "cell_type": "code",
   "execution_count": 6,
   "metadata": {},
   "outputs": [],
   "source": [
    "spaceDataset = pd.DataFrame(spaceResultsDict)\n",
    "spaceDataset.sort_index(inplace=True)\n",
    "spaceDataset.index.names = ['case', 'result']"
   ]
  },
  {
   "cell_type": "code",
   "execution_count": 7,
   "metadata": {},
   "outputs": [
    {
     "output_type": "execute_result",
     "data": {
      "text/plain": [
       "                 R3       R2       R1\n",
       "case result                          \n",
       "c1   duration   1.0      1.0      1.0\n",
       "     path        S1       S1       S1\n",
       "     state      NEW  PASSING    FLAKY\n",
       "     status       0        1        0\n",
       "     track        1        2        1\n",
       "c2   duration   2.0      2.0      2.0\n",
       "     path        S1       S1       S1\n",
       "     state     NONE     NONE     NONE\n",
       "     status       1        1        1\n",
       "     track        0        0        0\n",
       "c3   duration   3.0      3.0      3.0\n",
       "     path        S1       S1       S1\n",
       "     state     NONE      NEW  PASSING\n",
       "     status       1        0        1\n",
       "     track        0        1        2\n",
       "c4   duration   3.0      NaN      NaN\n",
       "     path        S1      NaN      NaN\n",
       "     state      NEW      NaN      NaN\n",
       "     status       0      NaN      NaN\n",
       "     track        1      NaN      NaN"
      ],
      "text/html": "<div>\n<style scoped>\n    .dataframe tbody tr th:only-of-type {\n        vertical-align: middle;\n    }\n\n    .dataframe tbody tr th {\n        vertical-align: top;\n    }\n\n    .dataframe thead th {\n        text-align: right;\n    }\n</style>\n<table border=\"1\" class=\"dataframe\">\n  <thead>\n    <tr style=\"text-align: right;\">\n      <th></th>\n      <th></th>\n      <th>R3</th>\n      <th>R2</th>\n      <th>R1</th>\n    </tr>\n    <tr>\n      <th>case</th>\n      <th>result</th>\n      <th></th>\n      <th></th>\n      <th></th>\n    </tr>\n  </thead>\n  <tbody>\n    <tr>\n      <th rowspan=\"5\" valign=\"top\">c1</th>\n      <th>duration</th>\n      <td>1.0</td>\n      <td>1.0</td>\n      <td>1.0</td>\n    </tr>\n    <tr>\n      <th>path</th>\n      <td>S1</td>\n      <td>S1</td>\n      <td>S1</td>\n    </tr>\n    <tr>\n      <th>state</th>\n      <td>NEW</td>\n      <td>PASSING</td>\n      <td>FLAKY</td>\n    </tr>\n    <tr>\n      <th>status</th>\n      <td>0</td>\n      <td>1</td>\n      <td>0</td>\n    </tr>\n    <tr>\n      <th>track</th>\n      <td>1</td>\n      <td>2</td>\n      <td>1</td>\n    </tr>\n    <tr>\n      <th rowspan=\"5\" valign=\"top\">c2</th>\n      <th>duration</th>\n      <td>2.0</td>\n      <td>2.0</td>\n      <td>2.0</td>\n    </tr>\n    <tr>\n      <th>path</th>\n      <td>S1</td>\n      <td>S1</td>\n      <td>S1</td>\n    </tr>\n    <tr>\n      <th>state</th>\n      <td>NONE</td>\n      <td>NONE</td>\n      <td>NONE</td>\n    </tr>\n    <tr>\n      <th>status</th>\n      <td>1</td>\n      <td>1</td>\n      <td>1</td>\n    </tr>\n    <tr>\n      <th>track</th>\n      <td>0</td>\n      <td>0</td>\n      <td>0</td>\n    </tr>\n    <tr>\n      <th rowspan=\"5\" valign=\"top\">c3</th>\n      <th>duration</th>\n      <td>3.0</td>\n      <td>3.0</td>\n      <td>3.0</td>\n    </tr>\n    <tr>\n      <th>path</th>\n      <td>S1</td>\n      <td>S1</td>\n      <td>S1</td>\n    </tr>\n    <tr>\n      <th>state</th>\n      <td>NONE</td>\n      <td>NEW</td>\n      <td>PASSING</td>\n    </tr>\n    <tr>\n      <th>status</th>\n      <td>1</td>\n      <td>0</td>\n      <td>1</td>\n    </tr>\n    <tr>\n      <th>track</th>\n      <td>0</td>\n      <td>1</td>\n      <td>2</td>\n    </tr>\n    <tr>\n      <th rowspan=\"5\" valign=\"top\">c4</th>\n      <th>duration</th>\n      <td>3.0</td>\n      <td>NaN</td>\n      <td>NaN</td>\n    </tr>\n    <tr>\n      <th>path</th>\n      <td>S1</td>\n      <td>NaN</td>\n      <td>NaN</td>\n    </tr>\n    <tr>\n      <th>state</th>\n      <td>NEW</td>\n      <td>NaN</td>\n      <td>NaN</td>\n    </tr>\n    <tr>\n      <th>status</th>\n      <td>0</td>\n      <td>NaN</td>\n      <td>NaN</td>\n    </tr>\n    <tr>\n      <th>track</th>\n      <td>1</td>\n      <td>NaN</td>\n      <td>NaN</td>\n    </tr>\n  </tbody>\n</table>\n</div>"
     },
     "metadata": {},
     "execution_count": 7
    }
   ],
   "source": [
    "spaceDataset"
   ]
  },
  {
   "cell_type": "code",
   "execution_count": 8,
   "metadata": {},
   "outputs": [],
   "source": [
    "cases      = spaceDataset.index.get_level_values(\"case\").unique()\n",
    "results    = list(spaceDataset.columns.values)\n",
    "numResults = len(results)"
   ]
  },
  {
   "cell_type": "code",
   "execution_count": 9,
   "metadata": {},
   "outputs": [],
   "source": [
    "spaceResultsSummaryArr = []\n",
    "for case in cases:\n",
    "    data = {}\n",
    "    data['case']    = case\n",
    "    caseStatus      = spaceDataset.loc[(case,\"status\")]\n",
    "    data['count']   = caseStatus.count() ## returns number of non-NaN values in the column\n",
    "    data['pr']      = \"{:.0%}\".format(caseStatus.sum()/caseStatus.count())\n",
    "    data['time']    = round(spaceDataset.loc[(case, \"duration\")].mean(),2)\n",
    "    data['history'] = spaceDataset.loc[(case)]\n",
    "    spaceResultsSummaryArr.append(data)"
   ]
  },
  {
   "cell_type": "code",
   "execution_count": 10,
   "metadata": {},
   "outputs": [],
   "source": [
    "spaceDatasetSummary = pd.DataFrame(spaceResultsSummaryArr)\n",
    "spaceDatasetSummary.set_index('case', inplace=True)\n",
    "spaceDatasetSummary = spaceDatasetSummary[['pr', 'count', 'time', 'history']]\n",
    "spaceDatasetSummary.sort_index(inplace=True)"
   ]
  },
  {
   "cell_type": "code",
   "execution_count": 11,
   "metadata": {},
   "outputs": [
    {
     "output_type": "execute_result",
     "data": {
      "text/plain": [
       "        pr  count  time                                            history\n",
       "case                                                                      \n",
       "c1     33%      3   1.0             R3       R2     R1\n",
       "result          ...\n",
       "c2    100%      3   2.0              R3    R2    R1\n",
       "result             ...\n",
       "c3     67%      3   3.0              R3   R2       R1\n",
       "result           ...\n",
       "c4      0%      1   3.0             R3   R2   R1\n",
       "result                ..."
      ],
      "text/html": "<div>\n<style scoped>\n    .dataframe tbody tr th:only-of-type {\n        vertical-align: middle;\n    }\n\n    .dataframe tbody tr th {\n        vertical-align: top;\n    }\n\n    .dataframe thead th {\n        text-align: right;\n    }\n</style>\n<table border=\"1\" class=\"dataframe\">\n  <thead>\n    <tr style=\"text-align: right;\">\n      <th></th>\n      <th>pr</th>\n      <th>count</th>\n      <th>time</th>\n      <th>history</th>\n    </tr>\n    <tr>\n      <th>case</th>\n      <th></th>\n      <th></th>\n      <th></th>\n      <th></th>\n    </tr>\n  </thead>\n  <tbody>\n    <tr>\n      <th>c1</th>\n      <td>33%</td>\n      <td>3</td>\n      <td>1.0</td>\n      <td>R3       R2     R1\nresult          ...</td>\n    </tr>\n    <tr>\n      <th>c2</th>\n      <td>100%</td>\n      <td>3</td>\n      <td>2.0</td>\n      <td>R3    R2    R1\nresult             ...</td>\n    </tr>\n    <tr>\n      <th>c3</th>\n      <td>67%</td>\n      <td>3</td>\n      <td>3.0</td>\n      <td>R3   R2       R1\nresult           ...</td>\n    </tr>\n    <tr>\n      <th>c4</th>\n      <td>0%</td>\n      <td>1</td>\n      <td>3.0</td>\n      <td>R3   R2   R1\nresult                ...</td>\n    </tr>\n  </tbody>\n</table>\n</div>"
     },
     "metadata": {},
     "execution_count": 11
    }
   ],
   "source": [
    "spaceDatasetSummary"
   ]
  },
  {
   "cell_type": "code",
   "execution_count": 12,
   "metadata": {},
   "outputs": [
    {
     "output_type": "execute_result",
     "data": {
      "text/plain": [
       "result duration path    state status track\n",
       "R3          1.0   S1      NEW      0     1\n",
       "R2          1.0   S1  PASSING      1     2\n",
       "R1          1.0   S1    FLAKY      0     1"
      ],
      "text/html": "<div>\n<style scoped>\n    .dataframe tbody tr th:only-of-type {\n        vertical-align: middle;\n    }\n\n    .dataframe tbody tr th {\n        vertical-align: top;\n    }\n\n    .dataframe thead th {\n        text-align: right;\n    }\n</style>\n<table border=\"1\" class=\"dataframe\">\n  <thead>\n    <tr style=\"text-align: right;\">\n      <th>result</th>\n      <th>duration</th>\n      <th>path</th>\n      <th>state</th>\n      <th>status</th>\n      <th>track</th>\n    </tr>\n  </thead>\n  <tbody>\n    <tr>\n      <th>R3</th>\n      <td>1.0</td>\n      <td>S1</td>\n      <td>NEW</td>\n      <td>0</td>\n      <td>1</td>\n    </tr>\n    <tr>\n      <th>R2</th>\n      <td>1.0</td>\n      <td>S1</td>\n      <td>PASSING</td>\n      <td>1</td>\n      <td>2</td>\n    </tr>\n    <tr>\n      <th>R1</th>\n      <td>1.0</td>\n      <td>S1</td>\n      <td>FLAKY</td>\n      <td>0</td>\n      <td>1</td>\n    </tr>\n  </tbody>\n</table>\n</div>"
     },
     "metadata": {},
     "execution_count": 12
    }
   ],
   "source": [
    "spaceDatasetSummary.loc[('c1','history')].transpose()"
   ]
  }
 ]
}